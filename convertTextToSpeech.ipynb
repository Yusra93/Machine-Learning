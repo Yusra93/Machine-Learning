{
  "nbformat": 4,
  "nbformat_minor": 0,
  "metadata": {
    "colab": {
      "name": "convertTextToSpeech.ipynb",
      "provenance": [],
      "authorship_tag": "ABX9TyMqe/+0Z54xXOMTEudzkBTn",
      "include_colab_link": true
    },
    "kernelspec": {
      "name": "python3",
      "display_name": "Python 3"
    }
  },
  "cells": [
    {
      "cell_type": "markdown",
      "metadata": {
        "id": "view-in-github",
        "colab_type": "text"
      },
      "source": [
        "<a href=\"https://colab.research.google.com/github/Yusra93/Machine-Learning/blob/master/convertTextToSpeech.ipynb\" target=\"_parent\"><img src=\"https://colab.research.google.com/assets/colab-badge.svg\" alt=\"Open In Colab\"/></a>"
      ]
    },
    {
      "cell_type": "code",
      "metadata": {
        "id": "CplKxiw7wje6",
        "colab_type": "code",
        "colab": {}
      },
      "source": [
        "#Description: This program takes text from an online articles and converts it to speech"
      ],
      "execution_count": null,
      "outputs": []
    },
    {
      "cell_type": "code",
      "metadata": {
        "id": "MDes20wY1LvL",
        "colab_type": "code",
        "colab": {
          "base_uri": "https://localhost:8080/",
          "height": 386
        },
        "outputId": "a847752f-3395-48a2-8a4f-5962d5b4a0ee"
      },
      "source": [
        "!pip install gtts  \n",
        "#Import the libraries\n",
        "from newspaper import Article\n",
        "import nltk\n",
        "from gtts import gTTS\n",
        "import os\n"
      ],
      "execution_count": 11,
      "outputs": [
        {
          "output_type": "stream",
          "text": [
            "Collecting gtts\n",
            "  Downloading https://files.pythonhosted.org/packages/a1/0c/4ca77eca3b739a4a08360930643f58d714e302fee0d2f8c654e67d9af8e7/gTTS-2.1.1-py3-none-any.whl\n",
            "Collecting gtts-token>=1.1.3\n",
            "  Downloading https://files.pythonhosted.org/packages/e7/25/ca6e9cd3275bfc3097fe6b06cc31db6d3dfaf32e032e0f73fead9c9a03ce/gTTS-token-1.1.3.tar.gz\n",
            "Requirement already satisfied: beautifulsoup4 in /usr/local/lib/python3.6/dist-packages (from gtts) (4.6.3)\n",
            "Requirement already satisfied: six in /usr/local/lib/python3.6/dist-packages (from gtts) (1.15.0)\n",
            "Requirement already satisfied: requests in /usr/local/lib/python3.6/dist-packages (from gtts) (2.23.0)\n",
            "Requirement already satisfied: click in /usr/local/lib/python3.6/dist-packages (from gtts) (7.1.2)\n",
            "Requirement already satisfied: certifi>=2017.4.17 in /usr/local/lib/python3.6/dist-packages (from requests->gtts) (2020.6.20)\n",
            "Requirement already satisfied: idna<3,>=2.5 in /usr/local/lib/python3.6/dist-packages (from requests->gtts) (2.10)\n",
            "Requirement already satisfied: urllib3!=1.25.0,!=1.25.1,<1.26,>=1.21.1 in /usr/local/lib/python3.6/dist-packages (from requests->gtts) (1.24.3)\n",
            "Requirement already satisfied: chardet<4,>=3.0.2 in /usr/local/lib/python3.6/dist-packages (from requests->gtts) (3.0.4)\n",
            "Building wheels for collected packages: gtts-token\n",
            "  Building wheel for gtts-token (setup.py) ... \u001b[?25l\u001b[?25hdone\n",
            "  Created wheel for gtts-token: filename=gTTS_token-1.1.3-cp36-none-any.whl size=4096 sha256=ce6b094855fc6cc521e740410512ef29870967a2df5c079bc0b55e6712829f89\n",
            "  Stored in directory: /root/.cache/pip/wheels/dd/11/61/33f7e51bf545e910552b2255eead2a7cd8ef54064b46dceb34\n",
            "Successfully built gtts-token\n",
            "Installing collected packages: gtts-token, gtts\n",
            "Successfully installed gtts-2.1.1 gtts-token-1.1.3\n"
          ],
          "name": "stdout"
        }
      ]
    },
    {
      "cell_type": "code",
      "metadata": {
        "id": "8TRXbf2ECrpX",
        "colab_type": "code",
        "colab": {
          "base_uri": "https://localhost:8080/",
          "height": 919
        },
        "outputId": "ca8c0480-74ff-4550-9de6-38b1ea3b58a3"
      },
      "source": [
        "!pip install  newspaper3k\n"
      ],
      "execution_count": 9,
      "outputs": [
        {
          "output_type": "stream",
          "text": [
            "Collecting newspaper3k\n",
            "\u001b[?25l  Downloading https://files.pythonhosted.org/packages/d7/b9/51afecb35bb61b188a4b44868001de348a0e8134b4dfa00ffc191567c4b9/newspaper3k-0.2.8-py3-none-any.whl (211kB)\n",
            "\r\u001b[K     |█▌                              | 10kB 16.9MB/s eta 0:00:01\r\u001b[K     |███                             | 20kB 1.7MB/s eta 0:00:01\r\u001b[K     |████▋                           | 30kB 2.3MB/s eta 0:00:01\r\u001b[K     |██████▏                         | 40kB 2.6MB/s eta 0:00:01\r\u001b[K     |███████▊                        | 51kB 2.0MB/s eta 0:00:01\r\u001b[K     |█████████▎                      | 61kB 2.3MB/s eta 0:00:01\r\u001b[K     |██████████▉                     | 71kB 2.5MB/s eta 0:00:01\r\u001b[K     |████████████▍                   | 81kB 2.7MB/s eta 0:00:01\r\u001b[K     |██████████████                  | 92kB 2.9MB/s eta 0:00:01\r\u001b[K     |███████████████▌                | 102kB 2.8MB/s eta 0:00:01\r\u001b[K     |█████████████████               | 112kB 2.8MB/s eta 0:00:01\r\u001b[K     |██████████████████▋             | 122kB 2.8MB/s eta 0:00:01\r\u001b[K     |████████████████████▏           | 133kB 2.8MB/s eta 0:00:01\r\u001b[K     |█████████████████████▊          | 143kB 2.8MB/s eta 0:00:01\r\u001b[K     |███████████████████████▎        | 153kB 2.8MB/s eta 0:00:01\r\u001b[K     |████████████████████████▉       | 163kB 2.8MB/s eta 0:00:01\r\u001b[K     |██████████████████████████▍     | 174kB 2.8MB/s eta 0:00:01\r\u001b[K     |████████████████████████████    | 184kB 2.8MB/s eta 0:00:01\r\u001b[K     |█████████████████████████████▌  | 194kB 2.8MB/s eta 0:00:01\r\u001b[K     |███████████████████████████████ | 204kB 2.8MB/s eta 0:00:01\r\u001b[K     |████████████████████████████████| 215kB 2.8MB/s \n",
            "\u001b[?25hCollecting cssselect>=0.9.2\n",
            "  Downloading https://files.pythonhosted.org/packages/3b/d4/3b5c17f00cce85b9a1e6f91096e1cc8e8ede2e1be8e96b87ce1ed09e92c5/cssselect-1.1.0-py2.py3-none-any.whl\n",
            "Requirement already satisfied: requests>=2.10.0 in /usr/local/lib/python3.6/dist-packages (from newspaper3k) (2.23.0)\n",
            "Collecting tinysegmenter==0.3\n",
            "  Downloading https://files.pythonhosted.org/packages/17/82/86982e4b6d16e4febc79c2a1d68ee3b707e8a020c5d2bc4af8052d0f136a/tinysegmenter-0.3.tar.gz\n",
            "Requirement already satisfied: beautifulsoup4>=4.4.1 in /usr/local/lib/python3.6/dist-packages (from newspaper3k) (4.6.3)\n",
            "Collecting tldextract>=2.0.1\n",
            "\u001b[?25l  Downloading https://files.pythonhosted.org/packages/12/cf/d0ff82625e53bd245d6173ce6333d190abbfcd94e4c30e54b4e16b474216/tldextract-2.2.3-py2.py3-none-any.whl (48kB)\n",
            "\u001b[K     |████████████████████████████████| 51kB 4.3MB/s \n",
            "\u001b[?25hRequirement already satisfied: python-dateutil>=2.5.3 in /usr/local/lib/python3.6/dist-packages (from newspaper3k) (2.8.1)\n",
            "Requirement already satisfied: Pillow>=3.3.0 in /usr/local/lib/python3.6/dist-packages (from newspaper3k) (7.0.0)\n",
            "Requirement already satisfied: PyYAML>=3.11 in /usr/local/lib/python3.6/dist-packages (from newspaper3k) (3.13)\n",
            "Collecting feedfinder2>=0.0.4\n",
            "  Downloading https://files.pythonhosted.org/packages/35/82/1251fefec3bb4b03fd966c7e7f7a41c9fc2bb00d823a34c13f847fd61406/feedfinder2-0.0.4.tar.gz\n",
            "Collecting jieba3k>=0.35.1\n",
            "\u001b[?25l  Downloading https://files.pythonhosted.org/packages/a9/cb/2c8332bcdc14d33b0bedd18ae0a4981a069c3513e445120da3c3f23a8aaa/jieba3k-0.35.1.zip (7.4MB)\n",
            "\u001b[K     |████████████████████████████████| 7.4MB 8.5MB/s \n",
            "\u001b[?25hRequirement already satisfied: lxml>=3.6.0 in /usr/local/lib/python3.6/dist-packages (from newspaper3k) (4.2.6)\n",
            "Requirement already satisfied: nltk>=3.2.1 in /usr/local/lib/python3.6/dist-packages (from newspaper3k) (3.2.5)\n",
            "Collecting feedparser>=5.2.1\n",
            "\u001b[?25l  Downloading https://files.pythonhosted.org/packages/91/d8/7d37fec71ff7c9dbcdd80d2b48bcdd86d6af502156fc93846fb0102cb2c4/feedparser-5.2.1.tar.bz2 (192kB)\n",
            "\u001b[K     |████████████████████████████████| 194kB 42.7MB/s \n",
            "\u001b[?25hRequirement already satisfied: idna<3,>=2.5 in /usr/local/lib/python3.6/dist-packages (from requests>=2.10.0->newspaper3k) (2.10)\n",
            "Requirement already satisfied: urllib3!=1.25.0,!=1.25.1,<1.26,>=1.21.1 in /usr/local/lib/python3.6/dist-packages (from requests>=2.10.0->newspaper3k) (1.24.3)\n",
            "Requirement already satisfied: chardet<4,>=3.0.2 in /usr/local/lib/python3.6/dist-packages (from requests>=2.10.0->newspaper3k) (3.0.4)\n",
            "Requirement already satisfied: certifi>=2017.4.17 in /usr/local/lib/python3.6/dist-packages (from requests>=2.10.0->newspaper3k) (2020.6.20)\n",
            "Collecting requests-file>=1.4\n",
            "  Downloading https://files.pythonhosted.org/packages/77/86/cdb5e8eaed90796aa83a6d9f75cfbd37af553c47a291cd47bc410ef9bdb2/requests_file-1.5.1-py2.py3-none-any.whl\n",
            "Requirement already satisfied: six>=1.5 in /usr/local/lib/python3.6/dist-packages (from python-dateutil>=2.5.3->newspaper3k) (1.15.0)\n",
            "Building wheels for collected packages: tinysegmenter, feedfinder2, jieba3k, feedparser\n",
            "  Building wheel for tinysegmenter (setup.py) ... \u001b[?25l\u001b[?25hdone\n",
            "  Created wheel for tinysegmenter: filename=tinysegmenter-0.3-cp36-none-any.whl size=13538 sha256=f274b333b9f0c8b1dbc599e3a76a1ab6a582057955f9f856dba9a6fe57ec5883\n",
            "  Stored in directory: /root/.cache/pip/wheels/81/2b/43/a02ede72324dd40cdd7ca53aad718c7710628e91b8b0dc0f02\n",
            "  Building wheel for feedfinder2 (setup.py) ... \u001b[?25l\u001b[?25hdone\n",
            "  Created wheel for feedfinder2: filename=feedfinder2-0.0.4-cp36-none-any.whl size=3355 sha256=bf064b2e599f65575bcaedb12dc87bd8a97ce1057ce72b04daf3d3dd757da47f\n",
            "  Stored in directory: /root/.cache/pip/wheels/de/03/ca/778e3a7a627e3d98836cc890e7cb40c7575424cfd3340f40ed\n",
            "  Building wheel for jieba3k (setup.py) ... \u001b[?25l\u001b[?25hdone\n",
            "  Created wheel for jieba3k: filename=jieba3k-0.35.1-cp36-none-any.whl size=7398406 sha256=327b4974923fd580fb5a4a4d735aaba2ac278990521a3d289abb9a8cccc466a8\n",
            "  Stored in directory: /root/.cache/pip/wheels/83/15/9c/a3f1f67e7f7181170ad37d32e503c35da20627c013f438ed34\n",
            "  Building wheel for feedparser (setup.py) ... \u001b[?25l\u001b[?25hdone\n",
            "  Created wheel for feedparser: filename=feedparser-5.2.1-cp36-none-any.whl size=44939 sha256=d9a03c1be1e36e6d0fa2c024b6ca3980b3743cafaa6ee8f8c30907518344654b\n",
            "  Stored in directory: /root/.cache/pip/wheels/8c/69/b7/f52763c41c5471df57703a0ef718a32a5e81ee35dcf6d4f97f\n",
            "Successfully built tinysegmenter feedfinder2 jieba3k feedparser\n",
            "Installing collected packages: cssselect, tinysegmenter, requests-file, tldextract, feedfinder2, jieba3k, feedparser, newspaper3k\n",
            "Successfully installed cssselect-1.1.0 feedfinder2-0.0.4 feedparser-5.2.1 jieba3k-0.35.1 newspaper3k-0.2.8 requests-file-1.5.1 tinysegmenter-0.3 tldextract-2.2.3\n"
          ],
          "name": "stdout"
        }
      ]
    },
    {
      "cell_type": "code",
      "metadata": {
        "id": "NMXDOm9yCHYI",
        "colab_type": "code",
        "colab": {}
      },
      "source": [
        "#Get the articles\n",
        "# article = Article('https://svn.bmj.com/content/2/4/230')\n",
        "article = Article('https://www.arageek.com/edu/how-to-overcome-frustration')\n",
        "article.download() #Download the article\n",
        "article.parse() #Parse the article\n",
        "# nltk.download('punkt')  #Download the punkt package\n",
        "article.nlp()  #Applay Natural Language Processing\n",
        "\n"
      ],
      "execution_count": 28,
      "outputs": []
    },
    {
      "cell_type": "code",
      "metadata": {
        "id": "YWRTXevUGHqS",
        "colab_type": "code",
        "colab": {
          "base_uri": "https://localhost:8080/",
          "height": 1000
        },
        "outputId": "c135313b-82a5-4b99-c3c2-b74227e94586"
      },
      "source": [
        "#Get the article text and store it into a variable  called mytext\n",
        "mytext = article.text\n",
        "#print the text\n",
        "print(mytext)"
      ],
      "execution_count": 29,
      "outputs": [
        {
          "output_type": "stream",
          "text": [
            "الكثير منا يحاول تحقيق أحلامه الإبداعية، فالجميع بلا استثناء لديه الشغف لابتكار أمر ما، لوحة، رواية، منحوتة، أشعار وغيرها من القوالب الخلاقة ولكن كلما كبرنا و انصرفنا الى الحياة العملية المزدحمة كلما قل الشغف في تحقيق ما كنا نحلم به، و السبب في ذلك هو الشخص المحبط القابع بداخلنا، نعم جميعنا لديه العديد من الأشخاص داخل عقله وهؤلاء الأشخاص يمتلكون أصوات ايجابية و اخرى سلبية والمحبط و أحد من اولئك السلبيين و مهمته هي ابقاءك بعيدًا عن إبداعاتك و طموحاتك.\n",
            "\n",
            "إن الشخص المحبط بداخلك كسول لكنه لن يعترف لك بذلك، انه يحرضك فقط على التخلي عن أحلامك بحجه “انك غير مؤهل أو انك مؤهل و لكن ينقصك شيئاً ما كالحظ أو التدريب اللازم أو الحصول على فرصة أفضل في التعليم لتدخل بعدها في دوامة من القاء اللوم على نفسك و على الظروف و على والديك اللذان تكاسلا عن الحاقك في صغرك بدورات تدريبية تفيدك لاحقا كمبدع او لانهما لم يكونا طموحين كفاية و يدخلوك مدرسة خاصة بدلًا من تلك المدرسة الحكومية التي ابتلعت سنوات طفولتك وقتلت بذرة الابداع لديك، لذا فأنت قد فاتك قطار المبدعين، ماذا عن شريك حياتك؟ كان من الممكن ان تكوني المبدعة رقم واحد في مجالك لو حظيتي بشريك يدعمك”\n",
            "\n",
            "كلها اعذار اختلقها لك “الشخص المحبط” من وحي تجربتك الحياتية لذا لا يمكن كشفه بسهوله، لكن ايها المحبط، لقد حان الوقت لتتوقف عما تقوم به… سأخبرك أيها القارئ ببعض النصائح التي تجعل “المحبط ” الذي بداخلك يتوقف عن الصياح.\n",
            "\n",
            "من أين يستمد “الشخص المحبط” قوته:\n",
            "\n",
            "لحظات التنمر\n",
            "\n",
            "لا يهم ان كان التنمر قد حدث في الطفولة او في الشيخوخة التنمر يبقى تنمر مهما اختلف عمر من تعرض له و اثره النفسي القاسي يبقى في ذاكرة الشخص العادي فما بالك بالمبدع الذي يبحث عن الاجواء المناسبة ليبدع .\n",
            "\n",
            "انت لا تستطيع\n",
            "\n",
            "المدرسة، المدير، الدكتور في الجامعة بالتأكيد اخبرك احدهم انك لا تقدر على القيام بإبداعاتك لأنك ببساطة في رأيهم بلا موهبة.\n",
            "\n",
            "قسوتك على نفسك\n",
            "\n",
            "بعد تعرضك للتنمر و الاحباط و الرفض يأتي دورك في تعزيز ما قيل عن عدم قدرتك على فعل ما ترغب به من خلال تكرار كل هذه المواقف في عقلك بخنوع الى ان تؤمن انك “لا تسطيع لان المتنمرين كانوا على حق ” انت سمحت لهم بإضعافك، و اسوء ما يمكن ان يفعله الإنسان هو التنمر على نفسه.\n",
            "\n",
            "كيف تقاوم “الشخص المحبط” الذي بداخلك\n",
            "\n",
            "1- قاوم المقاومة\n",
            "\n",
            "عندما تقرر الخروج من منطقة راحتك للانطلاق نحو رحلتك الإبداعية ستجد المقاومة مختبئة خلف احدى الأشجار بانتظار الامساك بك لتعيدك الى منطقتك الآمنة .\n",
            "\n",
            "ان اسوأ ما في المقاومة انها غير مرئية ستعتقد في البداية انه صوت داخلي حكيم يطلب منك التأني او عدم المحاولة لأنك غير مؤهل او ان ما ستقوم به أمر عادي و قد قام به كثيرون قبلك ، وهذا أمر غير صحيح فحتى الأعمال المكررة لها بصمتها الإبداعية ايضا .\n",
            "\n",
            "لقد اقتبست السينما حول العالم رواية البؤساء لفيكتور هوغو عده مرات ففي كل عقد تقريبا كان يتم انتاج فيلم او مسلسل مقتبس عن نفس الرواية ستجد عدد من المشاهدين يفضل الفيلم الذي صدر عام ١٩٩٨ بينما يفضل أخرون تلك النسخة التي تم انتاجها عام ٢٠١٢ عن نفسي أفضل المسلسل القصير الذي عرض قبل عامين.\n",
            "\n",
            "أرأيت انها نفس القصة و نفس الشخصيات ولكن ابداع المخرج و السيناريست و الممثلين و مصممين الأزياء و المصورين مختلف في كل فيلم او مسلسل، فكل واحد منهم كان له بصمته الخاصة المختلفة و التي حملت رؤية ابداعية جديدة رغم انها قصة واحدة، لم يقل اي مبدع ممن عملوا في احدى تلك النسخ لا لن افعلها لقد قام بها غيري من قبل.\n",
            "\n",
            "الامر ذاته مع العديد من الروايات الرومانسية و البوليسية التي تدور في عدد محدد من الحبكات و الشخصيات المتشابهة الى حد كبير لكننا مازلنا نقرأها و مازالت الى الان من الروايات الأكثر مبيعًا.\n",
            "\n",
            "تعددت الاشكال و المقاومة واحدة\n",
            "\n",
            "قد تأتي المقاومة على هيئة عادات و تقاليد تستنكر و ترفض ما ترغب في القيام به ، او على شكل واجبات منزلية غير مكتملة و يجب عليك إنهائها الان ، او على صورة محبطة من الماضي تعكر صفوك ، كل هذا غير حقيقي واجباتك المنزلية يمكنها الانتظار انت في العادة لا تقوم بها في موعدها المحدد لماذا تريد الالتزام في أداءها الآن، اخرس كل الاصوات التي تعمل ضدك لأنها مجرد اشباح فلا تدع حجة الوقت الضيق او المال غير الكافي توقفك.\n",
            "\n",
            "بناءاً على ذلك يجب عليك تجنب المماطلة فهي و المقاومة ابناء عمومة و كلاهما يعمل على هدف واحد إبعادك عن تنفيذ هدفك الابداعي.\n",
            "\n",
            "2- اخدع “المحبط”\n",
            "\n",
            "الخداع أمر سيء لكن في هذه الحالة و مع هذا الشخص هو أمر مطلوب و مفيد و إليك بعض الخدع.\n",
            "\n",
            "ستموت قريبًا\n",
            "\n",
            "لقد سمعنا قصصاً و شاهدنا أفلاما عن ذلك الشخص المفرط في العادية و الذي قرر التخلي عن احلامه من أجل عيش حياة آمنة روتينية و لكن كل شيء يتغير عندما يعلم انه مصاب بمرض خطير لن يبقيه حيًا لفترة طويلة، ليتحول بعد ذلك الى شخص مغامر او معطاء أو مبدع ليفجر كل طاقاته الخلاقة التي كبتها طوال سنوات حياته.\n",
            "\n",
            "دعني أخبرك بالأمر الجيد، أنت لن تموت، على الاقل ليس الآن، لكن فكرة الموت قريبًا ستدفعك للتفكير في مصير ابداعاتك المؤجلة، لذا لم لا توقف الصوت المحبط لأيام وتنهي تحفتك الإبداعية.\n",
            "\n",
            "انت تستحق مكافأة\n",
            "\n",
            "كافئ نفسك فتقدير الذات أمر ضروري للمبدع كي يستمر و هو منوم جيد لطاقة الإحباط.\n",
            "\n",
            "3– لا داعي للخوف\n",
            "\n",
            "كلنا نخاف و الخوف العادي امر حميد لكن ان تخاف من تنفيذ ابداعك الخاص فهذه اعتبرها جريمة و كأنك خائف من النسخة الأفضل والأقوى من نفسك، وهذا أمر غير منطقي.\n",
            "\n",
            "في كتابها “السحر الكبير” تلخص اليزابيث جيلبرت علاقة المبدع مع الخوف في هذه الأسطر:\n",
            "\n",
            "“أنت خائف من عدم وجود موهبة لديك، أنت خائف من أنك سترفض أو تنتقد أو يسخر منك أو يساء فهمك أو يتم تجاهلك بالكامل ، أنت خائف من عدم وجود سوق لإبداعك ، وبالتالي لا فائدة من إكمال الأمر. أنت خائف من ان شخصا آخر فعل ذلك بالفعل . مخيف ، مخيف ، مخيف. كل شيء مخيف جداً.”\n",
            "\n",
            "هذا حال كل مبدع لكن هناك من يوقفه الخوف و هناك من يتحدى خوفه و ينطلق ، فالتعايش مع الخوف و التحكم به من الاعراض الجانبية للعملية الإبداعية.\n",
            "\n",
            "4- احترم إبداعك\n",
            "\n",
            "ان يكون لديك فكرة لرواية او لوحة أو مسرحية فهذا أمر رائع و مميز لان عدد كبير من الناس لا يملكون فكرتك و رؤيتك، اليس من الظلم ان تلغي او تؤجل فكرتك و تلقيها على الرف ليغلفها التراب ؟\n",
            "\n",
            "افعل ذلك لا مشكلة لكن بعد أعوام عندما تتجول في معرض الكتاب او تذهب الى السينما و تجد ان صاحب الرواية او الفيلم قد انجز فكرة تطابق فكرتك او مشابهة لها جدًا، لا تغضب، فانت لم تحترم إبداعك منذ البداية انت مبدع مثله لكن الفرق بينكما انه احترم فكرته و أوصلها للجمهور بينما أنت تخليت عنها .\n",
            "\n",
            "لذا فالسبيل الوحيد لتجعل المحبط يتوقف عن ازعاجك هو البدء في عملك الإبداعي، ابدأ و ان لم تكن جاهزاً بعد، لا تدع اسطورة الكمال تحبطك.\n",
            "\n",
            "ببساطة الشخص المبدع اراد ان يضع بصمته في الحياة ليقول من خلالها لقد كنت هنا و سأبقى حتى بعد رحيل جسدي عن هذا العالم.\n",
            "\n",
            "تذكر مقوله نجيب محفوظ:\n",
            "\n",
            "“هناك أموات لم تمت كلماتهم و هناك أحياء لم نسمع لهم صوتاً”\n",
            "\n",
            "لذا كن حريصاً على ترك صوتك الإبداعي ليتكلم عنك بعد رحيلك.\n"
          ],
          "name": "stdout"
        }
      ]
    },
    {
      "cell_type": "code",
      "metadata": {
        "id": "tIZDndEKGwZv",
        "colab_type": "code",
        "colab": {}
      },
      "source": [
        "# language = 'en' #English\n",
        "language = 'ar'\n",
        "#Convert the text to speech\n",
        "myobj = gTTS(text = mytext, lang= language , slow= False)\n",
        "\n",
        "#Save the converted audio to a file \n",
        "# myobj.save('read_article.mp3')\n",
        "myobj.save('read_article2.mp3')\n"
      ],
      "execution_count": 30,
      "outputs": []
    },
    {
      "cell_type": "code",
      "metadata": {
        "id": "o7t4_IKkHsr6",
        "colab_type": "code",
        "colab": {
          "base_uri": "https://localhost:8080/",
          "height": 35
        },
        "outputId": "8682feb5-163d-46ae-9743-306def0fc351"
      },
      "source": [
        "#Play the converted file\n",
        "os.system('start read_article2.mp3')"
      ],
      "execution_count": 25,
      "outputs": [
        {
          "output_type": "execute_result",
          "data": {
            "text/plain": [
              "32512"
            ]
          },
          "metadata": {
            "tags": []
          },
          "execution_count": 25
        }
      ]
    }
  ]
}