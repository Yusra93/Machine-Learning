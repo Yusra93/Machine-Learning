{
  "nbformat": 4,
  "nbformat_minor": 0,
  "metadata": {
    "colab": {
      "name": "scraper",
      "provenance": [],
      "collapsed_sections": [],
      "authorship_tag": "ABX9TyMS7n1+YvVEXdTHi9JldX+z",
      "include_colab_link": true
    },
    "kernelspec": {
      "name": "python3",
      "display_name": "Python 3"
    }
  },
  "cells": [
    {
      "cell_type": "markdown",
      "metadata": {
        "id": "view-in-github",
        "colab_type": "text"
      },
      "source": [
        "<a href=\"https://colab.research.google.com/github/Yusra93/Machine-Learning/blob/master/scraper.ipynb\" target=\"_parent\"><img src=\"https://colab.research.google.com/assets/colab-badge.svg\" alt=\"Open In Colab\"/></a>"
      ]
    },
    {
      "cell_type": "code",
      "metadata": {
        "id": "cNg0wBnO_iMy",
        "colab_type": "code",
        "colab": {}
      },
      "source": [
        "import requests\n",
        "from bs4 import BeautifulSoup\n",
        "import smtplib\n",
        "URL = 'https://www.amazon.sa/%D8%A7%D8%A8%D9%84-%D9%85%D8%A7%D9%83-%D8%A8%D9%88%D9%83-%D8%A8%D8%B1%D9%88-MVVK2LL/dp/B081FV1Y57/ref=lp_16966427031_1_3?s=electronics&ie=UTF8&qid=1599038206&sr=1-3'\n",
        "\n",
        "headers ={\"User-Agent\":'Mozilla/5.0 (X11; Ubuntu; Linux x86_64; rv:79.0) Gecko/20100101 Firefox/79.0'}\n",
        "def send_mail():\n",
        "  server = smtplib.SMTP('smtp.gmail.com', 587)\n",
        "  server.ehlo()\n",
        "  server.starttls()\n",
        "  server.ehlo()\n",
        "\n",
        "  server.login('yusra93@gmail.com','passwordForApp')\n",
        "  subject = 'Price fell down!'\n",
        "  body = 'Check the amazon se link https://www.amazon.sa/%D8%A7%D8%A8%D9%84-%D9%85%D8%A7%D9%83-%D8%A8%D9%88%D9%83-%D8%A8%D8%B1%D9%88-MVVK2LL/dp/B081FV1Y57/ref=lp_16966427031_1_3?s=electronics&ie=UTF8&qid=1599038206&sr=1-3'\n",
        "\n",
        "  msg = f\"Subject: {subject} \\n\\n{body}\"\n",
        "  server.sendmail('','yusra93@gmail.com',msg)\n",
        "  print('HEY EMAIL HAS BEEN SENT!')\n",
        "\n",
        "  server.quit()\n",
        "def check_price():\n",
        "  page = requests.get(URL, headers= headers)\n",
        "\n",
        "  soup = BeautifulSoup(page.content, 'html.parser')\n",
        "# print (soup.prettify())\n"
      ],
      "execution_count": null,
      "outputs": []
    },
    {
      "cell_type": "code",
      "metadata": {
        "id": "MmJ8zfCcB2KH",
        "colab_type": "code",
        "colab": {
          "base_uri": "https://localhost:8080/",
          "height": 248
        },
        "outputId": "5ddc24f0-a013-4f2e-95ba-aaa138f32b7f"
      },
      "source": [
        "  title = soup.find(id=\"productTitle\").get_text()\n",
        "  price = soup.find(id=\"priceblock_ourprice\").get_text()\n",
        "  converted_price = float(price[0:5])\n",
        "  if(converted_price < 7,000): \n",
        "    send_mail()\n",
        "  print(title.strip())\n",
        "  print(converted_price)\n"
      ],
      "execution_count": 1,
      "outputs": [
        {
          "output_type": "error",
          "ename": "NameError",
          "evalue": "ignored",
          "traceback": [
            "\u001b[0;31m---------------------------------------------------------------------------\u001b[0m",
            "\u001b[0;31mNameError\u001b[0m                                 Traceback (most recent call last)",
            "\u001b[0;32m<ipython-input-1-5af56a8bf7e6>\u001b[0m in \u001b[0;36m<module>\u001b[0;34m()\u001b[0m\n\u001b[0;32m----> 1\u001b[0;31m \u001b[0mtitle\u001b[0m \u001b[0;34m=\u001b[0m \u001b[0msoup\u001b[0m\u001b[0;34m.\u001b[0m\u001b[0mfind\u001b[0m\u001b[0;34m(\u001b[0m\u001b[0mid\u001b[0m\u001b[0;34m=\u001b[0m\u001b[0;34m\"productTitle\"\u001b[0m\u001b[0;34m)\u001b[0m\u001b[0;34m.\u001b[0m\u001b[0mget_text\u001b[0m\u001b[0;34m(\u001b[0m\u001b[0;34m)\u001b[0m\u001b[0;34m\u001b[0m\u001b[0;34m\u001b[0m\u001b[0m\n\u001b[0m\u001b[1;32m      2\u001b[0m \u001b[0mprice\u001b[0m \u001b[0;34m=\u001b[0m \u001b[0msoup\u001b[0m\u001b[0;34m.\u001b[0m\u001b[0mfind\u001b[0m\u001b[0;34m(\u001b[0m\u001b[0mid\u001b[0m\u001b[0;34m=\u001b[0m\u001b[0;34m\"priceblock_ourprice\"\u001b[0m\u001b[0;34m)\u001b[0m\u001b[0;34m.\u001b[0m\u001b[0mget_text\u001b[0m\u001b[0;34m(\u001b[0m\u001b[0;34m)\u001b[0m\u001b[0;34m\u001b[0m\u001b[0;34m\u001b[0m\u001b[0m\n\u001b[1;32m      3\u001b[0m \u001b[0mconverted_price\u001b[0m \u001b[0;34m=\u001b[0m \u001b[0mfloat\u001b[0m\u001b[0;34m(\u001b[0m\u001b[0mprice\u001b[0m\u001b[0;34m[\u001b[0m\u001b[0;36m0\u001b[0m\u001b[0;34m:\u001b[0m\u001b[0;36m5\u001b[0m\u001b[0;34m]\u001b[0m\u001b[0;34m)\u001b[0m\u001b[0;34m\u001b[0m\u001b[0;34m\u001b[0m\u001b[0m\n\u001b[1;32m      4\u001b[0m \u001b[0;32mif\u001b[0m\u001b[0;34m(\u001b[0m\u001b[0mconverted_price\u001b[0m \u001b[0;34m<\u001b[0m \u001b[0;36m7\u001b[0m\u001b[0;34m,\u001b[0m\u001b[0;36m000\u001b[0m\u001b[0;34m)\u001b[0m\u001b[0;34m:\u001b[0m\u001b[0;34m\u001b[0m\u001b[0;34m\u001b[0m\u001b[0m\n\u001b[1;32m      5\u001b[0m   \u001b[0msend_mail\u001b[0m\u001b[0;34m(\u001b[0m\u001b[0;34m)\u001b[0m\u001b[0;34m\u001b[0m\u001b[0;34m\u001b[0m\u001b[0m\n",
            "\u001b[0;31mNameError\u001b[0m: name 'soup' is not defined"
          ]
        }
      ]
    },
    {
      "cell_type": "code",
      "metadata": {
        "id": "XKr9MRGuJxNw",
        "colab_type": "code",
        "colab": {}
      },
      "source": [
        ""
      ],
      "execution_count": null,
      "outputs": []
    },
    {
      "cell_type": "code",
      "metadata": {
        "id": "RDY0Cn1TJ1XG",
        "colab_type": "code",
        "colab": {}
      },
      "source": [
        ""
      ],
      "execution_count": null,
      "outputs": []
    }
  ]
}